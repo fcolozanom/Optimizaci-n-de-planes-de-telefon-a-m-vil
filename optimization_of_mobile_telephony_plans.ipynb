{
 "cells": [
  {
   "cell_type": "code",
   "execution_count": 2,
   "metadata": {},
   "outputs": [],
   "source": [
    "# Importación de librerías\n",
    "import pandas as pd\n",
    "from sklearn.model_selection import train_test_split\n",
    "from sklearn.model_selection import GridSearchCV\n",
    "from sklearn.tree import DecisionTreeClassifier\n",
    "from sklearn.ensemble import RandomForestClassifier\n",
    "from sklearn.linear_model import LogisticRegression\n",
    "from sklearn.metrics import classification_report\n",
    "from sklearn.dummy import DummyClassifier\n",
    "from sklearn.metrics import accuracy_score"
   ]
  },
  {
   "cell_type": "code",
   "execution_count": 5,
   "metadata": {},
   "outputs": [
    {
     "name": "stdout",
     "output_type": "stream",
     "text": [
      "<class 'pandas.core.frame.DataFrame'>\n",
      "RangeIndex: 3214 entries, 0 to 3213\n",
      "Data columns (total 5 columns):\n",
      " #   Column    Non-Null Count  Dtype  \n",
      "---  ------    --------------  -----  \n",
      " 0   calls     3214 non-null   float64\n",
      " 1   minutes   3214 non-null   float64\n",
      " 2   messages  3214 non-null   float64\n",
      " 3   mb_used   3214 non-null   float64\n",
      " 4   is_ultra  3214 non-null   int64  \n",
      "dtypes: float64(4), int64(1)\n",
      "memory usage: 125.7 KB\n",
      "None\n"
     ]
    }
   ],
   "source": [
    "# Análisis del DataFrame\n",
    "# Carga el conjunto de datos\n",
    "users_behavior_df = pd.read_csv('files/datasets/input/users_behavior.csv')\n",
    "print(users_behavior_df.info())"
   ]
  },
  {
   "cell_type": "code",
   "execution_count": 6,
   "metadata": {},
   "outputs": [
    {
     "data": {
      "text/html": [
       "<div>\n",
       "<style scoped>\n",
       "    .dataframe tbody tr th:only-of-type {\n",
       "        vertical-align: middle;\n",
       "    }\n",
       "\n",
       "    .dataframe tbody tr th {\n",
       "        vertical-align: top;\n",
       "    }\n",
       "\n",
       "    .dataframe thead th {\n",
       "        text-align: right;\n",
       "    }\n",
       "</style>\n",
       "<table border=\"1\" class=\"dataframe\">\n",
       "  <thead>\n",
       "    <tr style=\"text-align: right;\">\n",
       "      <th></th>\n",
       "      <th>calls</th>\n",
       "      <th>minutes</th>\n",
       "      <th>messages</th>\n",
       "      <th>mb_used</th>\n",
       "      <th>is_ultra</th>\n",
       "    </tr>\n",
       "  </thead>\n",
       "  <tbody>\n",
       "    <tr>\n",
       "      <th>0</th>\n",
       "      <td>40.0</td>\n",
       "      <td>311.90</td>\n",
       "      <td>83.0</td>\n",
       "      <td>19915.42</td>\n",
       "      <td>0</td>\n",
       "    </tr>\n",
       "    <tr>\n",
       "      <th>1</th>\n",
       "      <td>85.0</td>\n",
       "      <td>516.75</td>\n",
       "      <td>56.0</td>\n",
       "      <td>22696.96</td>\n",
       "      <td>0</td>\n",
       "    </tr>\n",
       "    <tr>\n",
       "      <th>2</th>\n",
       "      <td>77.0</td>\n",
       "      <td>467.66</td>\n",
       "      <td>86.0</td>\n",
       "      <td>21060.45</td>\n",
       "      <td>0</td>\n",
       "    </tr>\n",
       "    <tr>\n",
       "      <th>3</th>\n",
       "      <td>106.0</td>\n",
       "      <td>745.53</td>\n",
       "      <td>81.0</td>\n",
       "      <td>8437.39</td>\n",
       "      <td>1</td>\n",
       "    </tr>\n",
       "    <tr>\n",
       "      <th>4</th>\n",
       "      <td>66.0</td>\n",
       "      <td>418.74</td>\n",
       "      <td>1.0</td>\n",
       "      <td>14502.75</td>\n",
       "      <td>0</td>\n",
       "    </tr>\n",
       "  </tbody>\n",
       "</table>\n",
       "</div>"
      ],
      "text/plain": [
       "   calls  minutes  messages   mb_used  is_ultra\n",
       "0   40.0   311.90      83.0  19915.42         0\n",
       "1   85.0   516.75      56.0  22696.96         0\n",
       "2   77.0   467.66      86.0  21060.45         0\n",
       "3  106.0   745.53      81.0   8437.39         1\n",
       "4   66.0   418.74       1.0  14502.75         0"
      ]
     },
     "metadata": {},
     "output_type": "display_data"
    }
   ],
   "source": [
    "# Explora los primeros registros del conjunto de datos\n",
    "display(users_behavior_df.head())"
   ]
  },
  {
   "cell_type": "code",
   "execution_count": 7,
   "metadata": {},
   "outputs": [
    {
     "data": {
      "text/html": [
       "<div>\n",
       "<style scoped>\n",
       "    .dataframe tbody tr th:only-of-type {\n",
       "        vertical-align: middle;\n",
       "    }\n",
       "\n",
       "    .dataframe tbody tr th {\n",
       "        vertical-align: top;\n",
       "    }\n",
       "\n",
       "    .dataframe thead th {\n",
       "        text-align: right;\n",
       "    }\n",
       "</style>\n",
       "<table border=\"1\" class=\"dataframe\">\n",
       "  <thead>\n",
       "    <tr style=\"text-align: right;\">\n",
       "      <th></th>\n",
       "      <th>calls</th>\n",
       "      <th>minutes</th>\n",
       "      <th>messages</th>\n",
       "      <th>gb_used</th>\n",
       "      <th>is_ultra</th>\n",
       "    </tr>\n",
       "  </thead>\n",
       "  <tbody>\n",
       "    <tr>\n",
       "      <th>0</th>\n",
       "      <td>40.0</td>\n",
       "      <td>311.90</td>\n",
       "      <td>83.0</td>\n",
       "      <td>19.45</td>\n",
       "      <td>0</td>\n",
       "    </tr>\n",
       "    <tr>\n",
       "      <th>1</th>\n",
       "      <td>85.0</td>\n",
       "      <td>516.75</td>\n",
       "      <td>56.0</td>\n",
       "      <td>22.16</td>\n",
       "      <td>0</td>\n",
       "    </tr>\n",
       "    <tr>\n",
       "      <th>2</th>\n",
       "      <td>77.0</td>\n",
       "      <td>467.66</td>\n",
       "      <td>86.0</td>\n",
       "      <td>20.57</td>\n",
       "      <td>0</td>\n",
       "    </tr>\n",
       "    <tr>\n",
       "      <th>3</th>\n",
       "      <td>106.0</td>\n",
       "      <td>745.53</td>\n",
       "      <td>81.0</td>\n",
       "      <td>8.24</td>\n",
       "      <td>1</td>\n",
       "    </tr>\n",
       "    <tr>\n",
       "      <th>4</th>\n",
       "      <td>66.0</td>\n",
       "      <td>418.74</td>\n",
       "      <td>1.0</td>\n",
       "      <td>14.16</td>\n",
       "      <td>0</td>\n",
       "    </tr>\n",
       "  </tbody>\n",
       "</table>\n",
       "</div>"
      ],
      "text/plain": [
       "   calls  minutes  messages  gb_used  is_ultra\n",
       "0   40.0   311.90      83.0    19.45         0\n",
       "1   85.0   516.75      56.0    22.16         0\n",
       "2   77.0   467.66      86.0    20.57         0\n",
       "3  106.0   745.53      81.0     8.24         1\n",
       "4   66.0   418.74       1.0    14.16         0"
      ]
     },
     "metadata": {},
     "output_type": "display_data"
    }
   ],
   "source": [
    "# Mejora del DataFrame\n",
    "# Cambia el nombre de la columna mb_used\n",
    "users_behavior_df.rename(columns={'mb_used': 'gb_used'}, inplace=True)\n",
    "\n",
    "# Convertir todos los valores de la columna a GB y redondea a dos decimales\n",
    "users_behavior_df['gb_used'] = (users_behavior_df['gb_used'] / 1024).round(2)\n",
    "\n",
    "# Muestra los primeros registros del conjunto de datos después de los cambios\n",
    "display(users_behavior_df.head())"
   ]
  },
  {
   "cell_type": "code",
   "execution_count": 8,
   "metadata": {},
   "outputs": [],
   "source": [
    "#  Preparación de datos para el modelado\n",
    "# Segmentación de datos en conjuntos de entrenamiento, validación y prueba\n",
    "train_data, temp_data = train_test_split(users_behavior_df, test_size=0.3, random_state=54321)\n",
    "valid_data, test_data = train_test_split(temp_data, test_size=0.5, random_state=54321)"
   ]
  },
  {
   "cell_type": "code",
   "execution_count": 9,
   "metadata": {},
   "outputs": [],
   "source": [
    "# Selección de características y variable objetivo\n",
    "features = ['calls', 'minutes', 'messages', 'gb_used']\n",
    "target = 'is_ultra'"
   ]
  },
  {
   "cell_type": "code",
   "execution_count": 10,
   "metadata": {},
   "outputs": [
    {
     "data": {
      "text/html": [
       "<style>#sk-container-id-1 {color: black;}#sk-container-id-1 pre{padding: 0;}#sk-container-id-1 div.sk-toggleable {background-color: white;}#sk-container-id-1 label.sk-toggleable__label {cursor: pointer;display: block;width: 100%;margin-bottom: 0;padding: 0.3em;box-sizing: border-box;text-align: center;}#sk-container-id-1 label.sk-toggleable__label-arrow:before {content: \"▸\";float: left;margin-right: 0.25em;color: #696969;}#sk-container-id-1 label.sk-toggleable__label-arrow:hover:before {color: black;}#sk-container-id-1 div.sk-estimator:hover label.sk-toggleable__label-arrow:before {color: black;}#sk-container-id-1 div.sk-toggleable__content {max-height: 0;max-width: 0;overflow: hidden;text-align: left;background-color: #f0f8ff;}#sk-container-id-1 div.sk-toggleable__content pre {margin: 0.2em;color: black;border-radius: 0.25em;background-color: #f0f8ff;}#sk-container-id-1 input.sk-toggleable__control:checked~div.sk-toggleable__content {max-height: 200px;max-width: 100%;overflow: auto;}#sk-container-id-1 input.sk-toggleable__control:checked~label.sk-toggleable__label-arrow:before {content: \"▾\";}#sk-container-id-1 div.sk-estimator input.sk-toggleable__control:checked~label.sk-toggleable__label {background-color: #d4ebff;}#sk-container-id-1 div.sk-label input.sk-toggleable__control:checked~label.sk-toggleable__label {background-color: #d4ebff;}#sk-container-id-1 input.sk-hidden--visually {border: 0;clip: rect(1px 1px 1px 1px);clip: rect(1px, 1px, 1px, 1px);height: 1px;margin: -1px;overflow: hidden;padding: 0;position: absolute;width: 1px;}#sk-container-id-1 div.sk-estimator {font-family: monospace;background-color: #f0f8ff;border: 1px dotted black;border-radius: 0.25em;box-sizing: border-box;margin-bottom: 0.5em;}#sk-container-id-1 div.sk-estimator:hover {background-color: #d4ebff;}#sk-container-id-1 div.sk-parallel-item::after {content: \"\";width: 100%;border-bottom: 1px solid gray;flex-grow: 1;}#sk-container-id-1 div.sk-label:hover label.sk-toggleable__label {background-color: #d4ebff;}#sk-container-id-1 div.sk-serial::before {content: \"\";position: absolute;border-left: 1px solid gray;box-sizing: border-box;top: 0;bottom: 0;left: 50%;z-index: 0;}#sk-container-id-1 div.sk-serial {display: flex;flex-direction: column;align-items: center;background-color: white;padding-right: 0.2em;padding-left: 0.2em;position: relative;}#sk-container-id-1 div.sk-item {position: relative;z-index: 1;}#sk-container-id-1 div.sk-parallel {display: flex;align-items: stretch;justify-content: center;background-color: white;position: relative;}#sk-container-id-1 div.sk-item::before, #sk-container-id-1 div.sk-parallel-item::before {content: \"\";position: absolute;border-left: 1px solid gray;box-sizing: border-box;top: 0;bottom: 0;left: 50%;z-index: -1;}#sk-container-id-1 div.sk-parallel-item {display: flex;flex-direction: column;z-index: 1;position: relative;background-color: white;}#sk-container-id-1 div.sk-parallel-item:first-child::after {align-self: flex-end;width: 50%;}#sk-container-id-1 div.sk-parallel-item:last-child::after {align-self: flex-start;width: 50%;}#sk-container-id-1 div.sk-parallel-item:only-child::after {width: 0;}#sk-container-id-1 div.sk-dashed-wrapped {border: 1px dashed gray;margin: 0 0.4em 0.5em 0.4em;box-sizing: border-box;padding-bottom: 0.4em;background-color: white;}#sk-container-id-1 div.sk-label label {font-family: monospace;font-weight: bold;display: inline-block;line-height: 1.2em;}#sk-container-id-1 div.sk-label-container {text-align: center;}#sk-container-id-1 div.sk-container {/* jupyter's `normalize.less` sets `[hidden] { display: none; }` but bootstrap.min.css set `[hidden] { display: none !important; }` so we also need the `!important` here to be able to override the default hidden behavior on the sphinx rendered scikit-learn.org. See: https://github.com/scikit-learn/scikit-learn/issues/21755 */display: inline-block !important;position: relative;}#sk-container-id-1 div.sk-text-repr-fallback {display: none;}</style><div id=\"sk-container-id-1\" class=\"sk-top-container\"><div class=\"sk-text-repr-fallback\"><pre>GridSearchCV(cv=5, estimator=LogisticRegression(random_state=54321),\n",
       "             param_grid={&#x27;C&#x27;: [0.1, 1, 10], &#x27;penalty&#x27;: [&#x27;l2&#x27;]},\n",
       "             scoring=&#x27;accuracy&#x27;)</pre><b>In a Jupyter environment, please rerun this cell to show the HTML representation or trust the notebook. <br />On GitHub, the HTML representation is unable to render, please try loading this page with nbviewer.org.</b></div><div class=\"sk-container\" hidden><div class=\"sk-item sk-dashed-wrapped\"><div class=\"sk-label-container\"><div class=\"sk-label sk-toggleable\"><input class=\"sk-toggleable__control sk-hidden--visually\" id=\"sk-estimator-id-1\" type=\"checkbox\" ><label for=\"sk-estimator-id-1\" class=\"sk-toggleable__label sk-toggleable__label-arrow\">GridSearchCV</label><div class=\"sk-toggleable__content\"><pre>GridSearchCV(cv=5, estimator=LogisticRegression(random_state=54321),\n",
       "             param_grid={&#x27;C&#x27;: [0.1, 1, 10], &#x27;penalty&#x27;: [&#x27;l2&#x27;]},\n",
       "             scoring=&#x27;accuracy&#x27;)</pre></div></div></div><div class=\"sk-parallel\"><div class=\"sk-parallel-item\"><div class=\"sk-item\"><div class=\"sk-label-container\"><div class=\"sk-label sk-toggleable\"><input class=\"sk-toggleable__control sk-hidden--visually\" id=\"sk-estimator-id-2\" type=\"checkbox\" ><label for=\"sk-estimator-id-2\" class=\"sk-toggleable__label sk-toggleable__label-arrow\">estimator: LogisticRegression</label><div class=\"sk-toggleable__content\"><pre>LogisticRegression(random_state=54321)</pre></div></div></div><div class=\"sk-serial\"><div class=\"sk-item\"><div class=\"sk-estimator sk-toggleable\"><input class=\"sk-toggleable__control sk-hidden--visually\" id=\"sk-estimator-id-3\" type=\"checkbox\" ><label for=\"sk-estimator-id-3\" class=\"sk-toggleable__label sk-toggleable__label-arrow\">LogisticRegression</label><div class=\"sk-toggleable__content\"><pre>LogisticRegression(random_state=54321)</pre></div></div></div></div></div></div></div></div></div></div>"
      ],
      "text/plain": [
       "GridSearchCV(cv=5, estimator=LogisticRegression(random_state=54321),\n",
       "             param_grid={'C': [0.1, 1, 10], 'penalty': ['l2']},\n",
       "             scoring='accuracy')"
      ]
     },
     "execution_count": 10,
     "metadata": {},
     "output_type": "execute_result"
    }
   ],
   "source": [
    "# Entrenamiento de los modelos de clasificación con optimización de hiperparámetros\n",
    "# Árbol de decisión\n",
    "tree_params = {'max_depth': [3, 5, 7]}\n",
    "tree_model = GridSearchCV(DecisionTreeClassifier(random_state=54321), tree_params, scoring='accuracy', cv=5)\n",
    "tree_model.fit(train_data[features], train_data[target])\n",
    "\n",
    "# Bosque aleatorio\n",
    "forest_params = {'n_estimators': [50, 100, 200], 'max_depth': [5, 7, 9]}\n",
    "forest_model = GridSearchCV(RandomForestClassifier(random_state=54321), forest_params, scoring='accuracy', cv=5)\n",
    "forest_model.fit(train_data[features], train_data[target])\n",
    "\n",
    "# Regresión logística\n",
    "logistic_params = {'C': [0.1, 1, 10], 'penalty': ['l2']}\n",
    "logistic_model = GridSearchCV(LogisticRegression(random_state=54321), logistic_params, scoring='accuracy', cv=5)\n",
    "logistic_model.fit(train_data[features], train_data[target])"
   ]
  },
  {
   "cell_type": "code",
   "execution_count": 11,
   "metadata": {},
   "outputs": [],
   "source": [
    "# Realización de predicciones en conjuntos de validación y prueba con los mejores modelos\n",
    "# Realiza predicciones en el conjunto de validación y prueba utilizando el modelo de Árbol de Decisión\n",
    "tree_predictions_valid = tree_model.predict(valid_data[features])\n",
    "tree_predictions_test = tree_model.predict(test_data[features])\n",
    "\n",
    "# Realiza predicciones en el conjunto de validación y prueba utilizando el modelo de Bosque Aleatorio\n",
    "forest_predictions_valid = forest_model.predict(valid_data[features])\n",
    "forest_predictions_test = forest_model.predict(test_data[features])\n",
    "\n",
    "# Realiza predicciones en el conjunto de validación y prueba utilizando el modelo de Regresión Logística\n",
    "logistic_predictions_valid = logistic_model.predict(valid_data[features])\n",
    "logistic_predictions_test = logistic_model.predict(test_data[features])"
   ]
  },
  {
   "cell_type": "code",
   "execution_count": 12,
   "metadata": {},
   "outputs": [
    {
     "name": "stdout",
     "output_type": "stream",
     "text": [
      "\n",
      "Evaluación del modelo Árbol de Decisión:\n",
      "Exactitud en el conjunto de validación: 0.7738589211618258\n",
      "Exactitud en el conjunto de prueba: 0.782608695652174\n",
      "Informe de clasificación en el conjunto de prueba:\n",
      "              precision    recall  f1-score   support\n",
      "\n",
      "           0       0.79      0.94      0.86       336\n",
      "           1       0.75      0.43      0.55       147\n",
      "\n",
      "    accuracy                           0.78       483\n",
      "   macro avg       0.77      0.68      0.70       483\n",
      "weighted avg       0.78      0.78      0.76       483\n",
      "\n",
      "\n",
      "Evaluación del modelo Bosque Aleatorio:\n",
      "Exactitud en el conjunto de validación: 0.7987551867219918\n",
      "Exactitud en el conjunto de prueba: 0.7991718426501035\n",
      "Informe de clasificación en el conjunto de prueba:\n",
      "              precision    recall  f1-score   support\n",
      "\n",
      "           0       0.82      0.92      0.86       336\n",
      "           1       0.74      0.52      0.61       147\n",
      "\n",
      "    accuracy                           0.80       483\n",
      "   macro avg       0.78      0.72      0.74       483\n",
      "weighted avg       0.79      0.80      0.79       483\n",
      "\n",
      "\n",
      "Evaluación del modelo Regresión Logística:\n",
      "Exactitud en el conjunto de validación: 0.7219917012448133\n",
      "Exactitud en el conjunto de prueba: 0.7494824016563147\n",
      "Informe de clasificación en el conjunto de prueba:\n",
      "              precision    recall  f1-score   support\n",
      "\n",
      "           0       0.74      0.98      0.84       336\n",
      "           1       0.81      0.23      0.36       147\n",
      "\n",
      "    accuracy                           0.75       483\n",
      "   macro avg       0.78      0.60      0.60       483\n",
      "weighted avg       0.76      0.75      0.70       483\n",
      "\n"
     ]
    }
   ],
   "source": [
    "# Evaluación  el rendimiento de los modelos\n",
    "# Define una funcioón para la evaluación del rendimiento de los modelos\n",
    "def evaluate_model(predictions_valid, predictions_test, actual_valid, actual_test, model_name):\n",
    "    print(f\"\\nEvaluación del modelo {model_name}:\")\n",
    "    print(\"Exactitud en el conjunto de validación:\", accuracy_score(actual_valid, predictions_valid))\n",
    "    print(\"Exactitud en el conjunto de prueba:\", accuracy_score(actual_test, predictions_test))\n",
    "    print(\"Informe de clasificación en el conjunto de prueba:\")\n",
    "    print(classification_report(actual_test, predictions_test))\n",
    "    \n",
    "# Evaluación de los modelos\n",
    "evaluate_model(tree_predictions_valid, tree_predictions_test, valid_data[target], test_data[target], \"Árbol de Decisión\")\n",
    "evaluate_model(forest_predictions_valid, forest_predictions_test, valid_data[target], test_data[target], \"Bosque Aleatorio\")\n",
    "evaluate_model(logistic_predictions_valid, logistic_predictions_test, valid_data[target], test_data[target], \"Regresión Logística\")"
   ]
  },
  {
   "cell_type": "code",
   "execution_count": 13,
   "metadata": {},
   "outputs": [
    {
     "name": "stdout",
     "output_type": "stream",
     "text": [
      "\n",
      "Accuracy del Árbol de Decisión: 0.7945686711210096\n",
      "Parámetros del mejor Árbol de Decisión: {'max_depth': 7}\n",
      "\n",
      "Accuracy del Bosque Aleatorio: 0.8145805493689681\n",
      "Parámetros del mejor Bosque Aleatorio: {'max_depth': 9, 'n_estimators': 50}\n",
      "\n",
      "Accuracy de la Regresión Logística: 0.752781984657263\n",
      "Parámetros de la mejor Regresión Logística: {'C': 0.1, 'penalty': 'l2'}\n",
      "\n",
      "Accuracy del DummyClassifier: 0.6956521739130435\n"
     ]
    }
   ],
   "source": [
    "# Prueba de cordura\n",
    "# Prueba de cordura \n",
    "dummy_clf = DummyClassifier(strategy='most_frequent', random_state=54321)\n",
    "dummy_clf.fit(train_data[features], train_data[target])\n",
    "dummy_predictions = dummy_clf.predict(test_data[features])\n",
    "accuracy_dummy = accuracy_score(test_data[target], dummy_predictions)\n",
    "\n",
    "# Imprime resultados\n",
    "print(f'\\nAccuracy del Árbol de Decisión: {tree_model.best_score_}')\n",
    "print(f'Parámetros del mejor Árbol de Decisión: {tree_model.best_params_}')\n",
    "print()\n",
    "print(f'Accuracy del Bosque Aleatorio: {forest_model.best_score_}')\n",
    "print(f'Parámetros del mejor Bosque Aleatorio: {forest_model.best_params_}')\n",
    "print()\n",
    "print(f'Accuracy de la Regresión Logística: {logistic_model.best_score_}')\n",
    "print(f'Parámetros de la mejor Regresión Logística: {logistic_model.best_params_}')\n",
    "print()\n",
    "print(f'Accuracy del DummyClassifier: {accuracy_dummy}')"
   ]
  }
 ],
 "metadata": {
  "kernelspec": {
   "display_name": "Python 3",
   "language": "python",
   "name": "python3"
  },
  "language_info": {
   "codemirror_mode": {
    "name": "ipython",
    "version": 3
   },
   "file_extension": ".py",
   "mimetype": "text/x-python",
   "name": "python",
   "nbconvert_exporter": "python",
   "pygments_lexer": "ipython3",
   "version": "3.11.7"
  },
  "orig_nbformat": 4
 },
 "nbformat": 4,
 "nbformat_minor": 2
}
